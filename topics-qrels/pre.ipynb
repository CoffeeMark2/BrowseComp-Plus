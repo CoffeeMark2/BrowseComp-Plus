{
 "cells": [
  {
   "cell_type": "code",
   "execution_count": 3,
   "id": "275bc1ae",
   "metadata": {},
   "outputs": [],
   "source": [
    "import csv\n",
    "import json\n",
    "\n",
    "def convert_browsecomp_to_gaia_jsonl(queries_file, qrels_file, output_file):\n",
    "    \"\"\"\n",
    "    将BrowseComp数据集格式转换为GAIA数据集格式，并以JSONL格式输出。\n",
    "\n",
    "    Args:\n",
    "        queries_file (str): queries.tsv文件的路径。\n",
    "        qrels_file (str): qrel_golds.txt文件的路径。\n",
    "        output_file (str): 输出的JSONL文件名。\n",
    "    \"\"\"\n",
    "    # --- 步骤 1: 读取 qrel_golds.txt 并存储答案（文档ID） ---\n",
    "    # (此部分与之前完全相同)\n",
    "    answers = {}\n",
    "    try:\n",
    "        with open(qrels_file, 'r', encoding='utf-8') as f:\n",
    "            for line in f:\n",
    "                parts = line.strip().split()\n",
    "                if len(parts) == 4:\n",
    "                    query_id, _, doc_id, relevance = parts\n",
    "                    if int(relevance) > 0:\n",
    "                        answers[query_id] = doc_id\n",
    "    except FileNotFoundError:\n",
    "        print(f\"错误: 找不到文件 {qrels_file}\")\n",
    "        return\n",
    "    \n",
    "    print(f\"成功从 {qrels_file} 加载了 {len(answers)} 个答案条目。\")\n",
    "\n",
    "    # --- 步骤 2: 读取 queries.tsv 并准备转换 ---\n",
    "    # (此部分逻辑也与之前完全相同，但我们不再一次性构建整个列表，可以直接写入)\n",
    "    print(f\"正在处理 {queries_file} 并写入到 {output_file}...\")\n",
    "    \n",
    "    # --- 步骤 3: 逐行读取、转换并写入JSONL文件 ---\n",
    "    count = 0\n",
    "    try:\n",
    "        # 我们同时打开输入和输出文件\n",
    "        with open(queries_file, 'r', encoding='utf-8') as infile, \\\n",
    "             open(output_file, 'w', encoding='utf-8') as outfile:\n",
    "            \n",
    "            reader = csv.reader(infile, delimiter='\\t')\n",
    "            for row in reader:\n",
    "                if len(row) == 2:\n",
    "                    query_id, question_text = row\n",
    "                    \n",
    "                    final_answer = answers.get(query_id, \"Answer Document ID Not Found\")\n",
    "                    \n",
    "                    gaia_record = {\n",
    "                        \"task_id\": query_id,\n",
    "                        \"Question\": question_text,\n",
    "                        \"Level\": 1, \n",
    "                        \"Final answer\": final_answer, \n",
    "                        \"file_name\": \"\"\n",
    "                    }\n",
    "                    \n",
    "                    # 将字典转换为JSON字符串\n",
    "                    json_line = json.dumps(gaia_record, ensure_ascii=False)\n",
    "                    \n",
    "                    # 写入该行并添加换行符\n",
    "                    outfile.write(json_line + '\\n')\n",
    "                    count += 1\n",
    "\n",
    "    except FileNotFoundError:\n",
    "        print(f\"错误: 找不到文件 {queries_file}\")\n",
    "        return\n",
    "    except IOError as e:\n",
    "        print(f\"读写文件时发生错误: {e}\")\n",
    "        return\n",
    "        \n",
    "    print(f\"转换成功！共处理并写入了 {count} 条记录到 {output_file}\")"
   ]
  },
  {
   "cell_type": "code",
   "execution_count": 6,
   "id": "35603325",
   "metadata": {},
   "outputs": [
    {
     "name": "stdout",
     "output_type": "stream",
     "text": [
      "成功从 qrel_golds.txt 加载了 830 个答案条目。\n",
      "正在处理 queries.tsv 并写入到 bc_gaia_formatted_data.jsonl...\n",
      "转换成功！共处理并写入了 830 条记录到 bc_gaia_formatted_data.jsonl\n"
     ]
    }
   ],
   "source": [
    "\n",
    "# 定义输入和输出文件名\n",
    "QUERIES_TSV_PATH = 'queries.tsv'\n",
    "QRELS_GOLDS_PATH = 'qrel_golds.txt'\n",
    "GAIA_OUTPUT_JSON_PATH = 'bc_gaia_formatted_data.jsonl'\n",
    "\n",
    "# 执行转换函数\n",
    "convert_browsecomp_to_gaia_jsonl(QUERIES_TSV_PATH, QRELS_GOLDS_PATH, GAIA_OUTPUT_JSON_PATH)"
   ]
  }
 ],
 "metadata": {
  "kernelspec": {
   "display_name": "ck",
   "language": "python",
   "name": "python3"
  },
  "language_info": {
   "codemirror_mode": {
    "name": "ipython",
    "version": 3
   },
   "file_extension": ".py",
   "mimetype": "text/x-python",
   "name": "python",
   "nbconvert_exporter": "python",
   "pygments_lexer": "ipython3",
   "version": "3.12.0"
  }
 },
 "nbformat": 4,
 "nbformat_minor": 5
}
